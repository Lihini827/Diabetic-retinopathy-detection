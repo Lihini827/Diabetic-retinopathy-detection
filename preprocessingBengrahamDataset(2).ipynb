{
  "cells": [
    {
      "cell_type": "markdown",
      "metadata": {
        "id": "view-in-github",
        "colab_type": "text"
      },
      "source": [
        "<a href=\"https://colab.research.google.com/github/Lihini827/Diabetic-retinopathy-detection/blob/main/preprocessingBengrahamDataset(2).ipynb\" target=\"_parent\"><img src=\"https://colab.research.google.com/assets/colab-badge.svg\" alt=\"Open In Colab\"/></a>"
      ]
    },
    {
      "cell_type": "markdown",
      "source": [
        "https://www.kaggle.com/code/habibmrad1983/aptos-eye-preprocessing-in-diabetic-retinopathy"
      ],
      "metadata": {
        "id": "jR4BX5POpa-1"
      }
    },
    {
      "cell_type": "code",
      "execution_count": null,
      "metadata": {
        "colab": {
          "base_uri": "https://localhost:8080/"
        },
        "id": "bCf1B5XzAQNg",
        "outputId": "e94d59d0-049f-447a-f2ac-afc21833c873"
      },
      "outputs": [
        {
          "output_type": "stream",
          "name": "stdout",
          "text": [
            "Mounted at /content/drive\n"
          ]
        }
      ],
      "source": [
        "from google.colab import drive\n",
        "drive.mount('/content/drive')"
      ]
    },
    {
      "cell_type": "code",
      "source": [
        "import cv2\n",
        "import os"
      ],
      "metadata": {
        "id": "_4DIpaD9mYnI"
      },
      "execution_count": null,
      "outputs": []
    },
    {
      "cell_type": "code",
      "source": [
        "# Define the input and output directories\n",
        "input_dir = \"/content/drive/MyDrive/DiabticRetinopathy/Splitdataset2Split/train/Mild/\"\n",
        "output_dir = \"/content/drive/MyDrive/DiabticRetinopathy/Preprocess/Ben/train/Mild\"\n",
        "# Make sure the output directory exists\n",
        "if not os.path.exists(output_dir):\n",
        "    os.makedirs(output_dir)\n",
        "\n",
        "# Define the desired image size and other preprocessing parameters\n",
        "desired_size = (224, 224)\n",
        "\n",
        "# Function to perform Ben Graham's preprocessing\n",
        "def preprocess_image(input_path, output_path):\n",
        "    # Load the image\n",
        "    image = cv2.imread(input_path)\n",
        "\n",
        "    # Resize the image to the desired size\n",
        "    image = cv2.resize(image, desired_size)\n",
        "\n",
        "    # Convert the image to grayscale\n",
        "    gray_image = cv2.cvtColor(image, cv2.COLOR_BGR2GRAY)\n",
        "\n",
        "    # Apply histogram equalization\n",
        "    equalized_image = cv2.equalizeHist(gray_image)\n",
        "\n",
        "    # Save the preprocessed image\n",
        "    cv2.imwrite(output_path, equalized_image)\n",
        "\n",
        "# Iterate through the files in the input directory\n",
        "for filename in os.listdir(input_dir):\n",
        "    if filename.endswith(\".png\"):  # Modify this condition as needed\n",
        "        input_path = os.path.join(input_dir, filename)\n",
        "        output_path = os.path.join(output_dir, filename)\n",
        "        preprocess_image(input_path, output_path)\n",
        "\n",
        "print(\"Preprocessing complete.\")"
      ],
      "metadata": {
        "colab": {
          "base_uri": "https://localhost:8080/"
        },
        "id": "Dzt4haPXmbs4",
        "outputId": "401a7190-bf08-4596-f994-8664e8382516"
      },
      "execution_count": null,
      "outputs": [
        {
          "output_type": "stream",
          "name": "stdout",
          "text": [
            "Preprocessing complete.\n"
          ]
        }
      ]
    },
    {
      "cell_type": "code",
      "source": [
        "# Define the input and output directories\n",
        "input_dir = \"/content/drive/MyDrive/DiabticRetinopathy/Splitdataset2Split/train/Moderate/\"\n",
        "output_dir = \"/content/drive/MyDrive/DiabticRetinopathy/Preprocess/Ben/train/Moderate\"\n",
        "\n",
        "# Make sure the output directory exists\n",
        "if not os.path.exists(output_dir):\n",
        "    os.makedirs(output_dir)\n",
        "\n",
        "# Define the desired image size and other preprocessing parameters\n",
        "desired_size = (224, 224)\n",
        "\n",
        "# Function to perform Ben Graham's preprocessing\n",
        "def preprocess_image(input_path, output_path):\n",
        "    # Load the image\n",
        "    image = cv2.imread(input_path)\n",
        "\n",
        "    # Resize the image to the desired size\n",
        "    image = cv2.resize(image, desired_size)\n",
        "\n",
        "    # Convert the image to grayscale\n",
        "    gray_image = cv2.cvtColor(image, cv2.COLOR_BGR2GRAY)\n",
        "\n",
        "    # Apply histogram equalization\n",
        "    equalized_image = cv2.equalizeHist(gray_image)\n",
        "\n",
        "    # Save the preprocessed image\n",
        "    cv2.imwrite(output_path, equalized_image)\n",
        "\n",
        "# Iterate through the files in the input directory\n",
        "for filename in os.listdir(input_dir):\n",
        "    if filename.endswith(\".png\"):  # Modify this condition as needed\n",
        "        input_path = os.path.join(input_dir, filename)\n",
        "        output_path = os.path.join(output_dir, filename)\n",
        "        preprocess_image(input_path, output_path)\n",
        "\n",
        "print(\"Preprocessing complete.\")"
      ],
      "metadata": {
        "id": "TGECVzkat-N1",
        "colab": {
          "base_uri": "https://localhost:8080/"
        },
        "outputId": "cba92a53-2b0b-43d5-9ae2-83a5da60e7a7"
      },
      "execution_count": null,
      "outputs": [
        {
          "output_type": "stream",
          "name": "stdout",
          "text": [
            "Preprocessing complete.\n"
          ]
        }
      ]
    },
    {
      "cell_type": "code",
      "source": [
        "# Define the input and output directories\n",
        "input_dir = \"/content/drive/MyDrive/DiabticRetinopathy/Splitdataset2Split/train/No_DR/\"\n",
        "output_dir = \"/content/drive/MyDrive/DiabticRetinopathy/Preprocess/Ben/train/No_DR\"\n",
        "\n",
        "# Make sure the output directory exists\n",
        "if not os.path.exists(output_dir):\n",
        "    os.makedirs(output_dir)\n",
        "\n",
        "# Define the desired image size and other preprocessing parameters\n",
        "desired_size = (224, 224)\n",
        "\n",
        "# Function to perform Ben Graham's preprocessing\n",
        "def preprocess_image(input_path, output_path):\n",
        "    # Load the image\n",
        "    image = cv2.imread(input_path)\n",
        "\n",
        "    # Resize the image to the desired size\n",
        "    image = cv2.resize(image, desired_size)\n",
        "\n",
        "    # Convert the image to grayscale\n",
        "    gray_image = cv2.cvtColor(image, cv2.COLOR_BGR2GRAY)\n",
        "\n",
        "    # Apply histogram equalization\n",
        "    equalized_image = cv2.equalizeHist(gray_image)\n",
        "\n",
        "    # Save the preprocessed image\n",
        "    cv2.imwrite(output_path, equalized_image)\n",
        "\n",
        "# Iterate through the files in the input directory\n",
        "for filename in os.listdir(input_dir):\n",
        "    if filename.endswith(\".png\"):  # Modify this condition as needed\n",
        "        input_path = os.path.join(input_dir, filename)\n",
        "        output_path = os.path.join(output_dir, filename)\n",
        "        preprocess_image(input_path, output_path)\n",
        "\n",
        "print(\"Preprocessing complete.\")"
      ],
      "metadata": {
        "colab": {
          "base_uri": "https://localhost:8080/"
        },
        "id": "rKEbuxS0uDnQ",
        "outputId": "e77915af-15d5-4455-996b-e7e8c443d844"
      },
      "execution_count": null,
      "outputs": [
        {
          "output_type": "stream",
          "name": "stdout",
          "text": [
            "Preprocessing complete.\n"
          ]
        }
      ]
    },
    {
      "cell_type": "code",
      "source": [
        "# Define the input and output directories\n",
        "input_dir = \"/content/drive/MyDrive/DiabticRetinopathy/Splitdataset2Split/train/Proliferate_DR/\"\n",
        "output_dir = \"/content/drive/MyDrive/DiabticRetinopathy/Preprocess/Ben/train/Proliferate_DR\"\n",
        "\n",
        "# Make sure the output directory exists\n",
        "if not os.path.exists(output_dir):\n",
        "    os.makedirs(output_dir)\n",
        "\n",
        "# Define the desired image size and other preprocessing parameters\n",
        "desired_size = (224, 224)\n",
        "\n",
        "# Function to perform Ben Graham's preprocessing\n",
        "def preprocess_image(input_path, output_path):\n",
        "    # Load the image\n",
        "    image = cv2.imread(input_path)\n",
        "\n",
        "    # Resize the image to the desired size\n",
        "    image = cv2.resize(image, desired_size)\n",
        "\n",
        "    # Convert the image to grayscale\n",
        "    gray_image = cv2.cvtColor(image, cv2.COLOR_BGR2GRAY)\n",
        "\n",
        "    # Apply histogram equalization\n",
        "    equalized_image = cv2.equalizeHist(gray_image)\n",
        "\n",
        "    # Save the preprocessed image\n",
        "    cv2.imwrite(output_path, equalized_image)\n",
        "\n",
        "# Iterate through the files in the input directory\n",
        "for filename in os.listdir(input_dir):\n",
        "    if filename.endswith(\".png\"):  # Modify this condition as needed\n",
        "        input_path = os.path.join(input_dir, filename)\n",
        "        output_path = os.path.join(output_dir, filename)\n",
        "        preprocess_image(input_path, output_path)\n",
        "\n",
        "print(\"Preprocessing complete.\")"
      ],
      "metadata": {
        "colab": {
          "base_uri": "https://localhost:8080/"
        },
        "id": "87SiHYt0vkdz",
        "outputId": "2b7d336b-c396-4be6-edbc-b06f20f6742b"
      },
      "execution_count": null,
      "outputs": [
        {
          "output_type": "stream",
          "name": "stdout",
          "text": [
            "Preprocessing complete.\n"
          ]
        }
      ]
    },
    {
      "cell_type": "code",
      "source": [
        "# Define the input and output directories\n",
        "input_dir = \"/content/drive/MyDrive/DiabticRetinopathy/Splitdataset2Split/train/Severe/\"\n",
        "output_dir = \"/content/drive/MyDrive/DiabticRetinopathy/Preprocess/Ben/train/Severe\"\n",
        "\n",
        "# Make sure the output directory exists\n",
        "if not os.path.exists(output_dir):\n",
        "    os.makedirs(output_dir)\n",
        "\n",
        "# Define the desired image size and other preprocessing parameters\n",
        "desired_size = (224, 224)\n",
        "\n",
        "# Function to perform Ben Graham's preprocessing\n",
        "def preprocess_image(input_path, output_path):\n",
        "    # Load the image\n",
        "    image = cv2.imread(input_path)\n",
        "\n",
        "    # Resize the image to the desired size\n",
        "    image = cv2.resize(image, desired_size)\n",
        "\n",
        "    # Convert the image to grayscale\n",
        "    gray_image = cv2.cvtColor(image, cv2.COLOR_BGR2GRAY)\n",
        "\n",
        "    # Apply histogram equalization\n",
        "    equalized_image = cv2.equalizeHist(gray_image)\n",
        "\n",
        "    # Save the preprocessed image\n",
        "    cv2.imwrite(output_path, equalized_image)\n",
        "\n",
        "# Iterate through the files in the input directory\n",
        "for filename in os.listdir(input_dir):\n",
        "    if filename.endswith(\".png\"):  # Modify this condition as needed\n",
        "        input_path = os.path.join(input_dir, filename)\n",
        "        output_path = os.path.join(output_dir, filename)\n",
        "        preprocess_image(input_path, output_path)\n",
        "\n",
        "print(\"Preprocessing complete.\")"
      ],
      "metadata": {
        "colab": {
          "base_uri": "https://localhost:8080/"
        },
        "id": "qrhSvJTdv6Ct",
        "outputId": "12975348-c602-48b9-9c4e-86c6c7f2de1c"
      },
      "execution_count": null,
      "outputs": [
        {
          "output_type": "stream",
          "name": "stdout",
          "text": [
            "Preprocessing complete.\n"
          ]
        }
      ]
    },
    {
      "cell_type": "code",
      "source": [
        "# Define the input and output directories\n",
        "input_dir = \"/content/drive/MyDrive/DiabticRetinopathy/Splitdataset2Split/test/Mild/\"\n",
        "output_dir = \"/content/drive/MyDrive/DiabticRetinopathy/Preprocess/Ben/test/Mild\"\n",
        "\n",
        "# Make sure the output directory exists\n",
        "if not os.path.exists(output_dir):\n",
        "    os.makedirs(output_dir)\n",
        "\n",
        "# Define the desired image size and other preprocessing parameters\n",
        "desired_size = (224, 224)\n",
        "\n",
        "# Function to perform Ben Graham's preprocessing\n",
        "def preprocess_image(input_path, output_path):\n",
        "    # Load the image\n",
        "    image = cv2.imread(input_path)\n",
        "\n",
        "    # Resize the image to the desired size\n",
        "    image = cv2.resize(image, desired_size)\n",
        "\n",
        "    # Convert the image to grayscale\n",
        "    gray_image = cv2.cvtColor(image, cv2.COLOR_BGR2GRAY)\n",
        "\n",
        "    # Apply histogram equalization\n",
        "    equalized_image = cv2.equalizeHist(gray_image)\n",
        "\n",
        "    # Save the preprocessed image\n",
        "    cv2.imwrite(output_path, equalized_image)\n",
        "\n",
        "# Iterate through the files in the input directory\n",
        "for filename in os.listdir(input_dir):\n",
        "    if filename.endswith(\".png\"):  # Modify this condition as needed\n",
        "        input_path = os.path.join(input_dir, filename)\n",
        "        output_path = os.path.join(output_dir, filename)\n",
        "        preprocess_image(input_path, output_path)\n",
        "\n",
        "print(\"Preprocessing complete.\")"
      ],
      "metadata": {
        "colab": {
          "base_uri": "https://localhost:8080/"
        },
        "id": "pYcOc_8X_Zhb",
        "outputId": "b067fd98-2ec8-416f-94a1-3ea062e62fe4"
      },
      "execution_count": null,
      "outputs": [
        {
          "output_type": "stream",
          "name": "stdout",
          "text": [
            "Preprocessing complete.\n"
          ]
        }
      ]
    },
    {
      "cell_type": "code",
      "source": [
        "# Define the input and output directories\n",
        "input_dir = \"/content/drive/MyDrive/DiabticRetinopathy/Splitdataset2Split/test/Moderate/\"\n",
        "output_dir = \"/content/drive/MyDrive/DiabticRetinopathy/Preprocess/Ben/test/Moderate\"\n",
        "\n",
        "# Make sure the output directory exists\n",
        "if not os.path.exists(output_dir):\n",
        "    os.makedirs(output_dir)\n",
        "\n",
        "# Define the desired image size and other preprocessing parameters\n",
        "desired_size = (224, 224)\n",
        "\n",
        "# Function to perform Ben Graham's preprocessing\n",
        "def preprocess_image(input_path, output_path):\n",
        "    # Load the image\n",
        "    image = cv2.imread(input_path)\n",
        "\n",
        "    # Resize the image to the desired size\n",
        "    image = cv2.resize(image, desired_size)\n",
        "\n",
        "    # Convert the image to grayscale\n",
        "    gray_image = cv2.cvtColor(image, cv2.COLOR_BGR2GRAY)\n",
        "\n",
        "    # Apply histogram equalization\n",
        "    equalized_image = cv2.equalizeHist(gray_image)\n",
        "\n",
        "    # Save the preprocessed image\n",
        "    cv2.imwrite(output_path, equalized_image)\n",
        "\n",
        "# Iterate through the files in the input directory\n",
        "for filename in os.listdir(input_dir):\n",
        "    if filename.endswith(\".png\"):  # Modify this condition as needed\n",
        "        input_path = os.path.join(input_dir, filename)\n",
        "        output_path = os.path.join(output_dir, filename)\n",
        "        preprocess_image(input_path, output_path)\n",
        "\n",
        "print(\"Preprocessing complete.\")"
      ],
      "metadata": {
        "colab": {
          "base_uri": "https://localhost:8080/"
        },
        "id": "kFxpiphI7le8",
        "outputId": "6973e585-fbba-411e-f980-5f409660a0b5"
      },
      "execution_count": null,
      "outputs": [
        {
          "output_type": "stream",
          "name": "stdout",
          "text": [
            "Preprocessing complete.\n"
          ]
        }
      ]
    },
    {
      "cell_type": "code",
      "source": [
        "# Define the input and output directories\n",
        "input_dir = \"/content/drive/MyDrive/DiabticRetinopathy/Splitdataset2Split/test/No_DR/\"\n",
        "output_dir = \"//content/drive/MyDrive/DiabticRetinopathy/Preprocess/Ben/test/No_DR\"\n",
        "\n",
        "# Make sure the output directory exists\n",
        "if not os.path.exists(output_dir):\n",
        "    os.makedirs(output_dir)\n",
        "\n",
        "# Define the desired image size and other preprocessing parameters\n",
        "desired_size = (224, 224)\n",
        "\n",
        "# Function to perform Ben Graham's preprocessing\n",
        "def preprocess_image(input_path, output_path):\n",
        "    # Load the image\n",
        "    image = cv2.imread(input_path)\n",
        "\n",
        "    # Resize the image to the desired size\n",
        "    image = cv2.resize(image, desired_size)\n",
        "\n",
        "    # Convert the image to grayscale\n",
        "    gray_image = cv2.cvtColor(image, cv2.COLOR_BGR2GRAY)\n",
        "\n",
        "    # Apply histogram equalization\n",
        "    equalized_image = cv2.equalizeHist(gray_image)\n",
        "\n",
        "    # Save the preprocessed image\n",
        "    cv2.imwrite(output_path, equalized_image)\n",
        "\n",
        "# Iterate through the files in the input directory\n",
        "for filename in os.listdir(input_dir):\n",
        "    if filename.endswith(\".png\"):  # Modify this condition as needed\n",
        "        input_path = os.path.join(input_dir, filename)\n",
        "        output_path = os.path.join(output_dir, filename)\n",
        "        preprocess_image(input_path, output_path)\n",
        "\n",
        "print(\"Preprocessing complete.\")"
      ],
      "metadata": {
        "colab": {
          "base_uri": "https://localhost:8080/"
        },
        "id": "u-XhbC6Q_5g7",
        "outputId": "d35cd2d8-13cf-490d-9c2e-e6b821c50174"
      },
      "execution_count": null,
      "outputs": [
        {
          "output_type": "stream",
          "name": "stdout",
          "text": [
            "Preprocessing complete.\n"
          ]
        }
      ]
    },
    {
      "cell_type": "code",
      "source": [
        "# Define the input and output directories\n",
        "input_dir = \"/content/drive/MyDrive/DiabticRetinopathy/Splitdataset2Split/test/Proliferate_DR/\"\n",
        "output_dir = \"/content/drive/MyDrive/DiabticRetinopathy/Preprocess/Ben/test/Proliferate_DR\"\n",
        "\n",
        "# Make sure the output directory exists\n",
        "if not os.path.exists(output_dir):\n",
        "    os.makedirs(output_dir)\n",
        "\n",
        "# Define the desired image size and other preprocessing parameters\n",
        "desired_size = (224, 224)\n",
        "\n",
        "# Function to perform Ben Graham's preprocessing\n",
        "def preprocess_image(input_path, output_path):\n",
        "    # Load the image\n",
        "    image = cv2.imread(input_path)\n",
        "\n",
        "    # Resize the image to the desired size\n",
        "    image = cv2.resize(image, desired_size)\n",
        "\n",
        "    # Convert the image to grayscale\n",
        "    gray_image = cv2.cvtColor(image, cv2.COLOR_BGR2GRAY)\n",
        "\n",
        "    # Apply histogram equalization\n",
        "    equalized_image = cv2.equalizeHist(gray_image)\n",
        "\n",
        "    # Save the preprocessed image\n",
        "    cv2.imwrite(output_path, equalized_image)\n",
        "\n",
        "# Iterate through the files in the input directory\n",
        "for filename in os.listdir(input_dir):\n",
        "    if filename.endswith(\".png\"):  # Modify this condition as needed\n",
        "        input_path = os.path.join(input_dir, filename)\n",
        "        output_path = os.path.join(output_dir, filename)\n",
        "        preprocess_image(input_path, output_path)\n",
        "\n",
        "print(\"Preprocessing complete.\")"
      ],
      "metadata": {
        "colab": {
          "base_uri": "https://localhost:8080/"
        },
        "id": "IFX_WUkG_5dF",
        "outputId": "2011f05c-cf1c-43c2-8746-a44e34604af7"
      },
      "execution_count": null,
      "outputs": [
        {
          "output_type": "stream",
          "name": "stdout",
          "text": [
            "Preprocessing complete.\n"
          ]
        }
      ]
    },
    {
      "cell_type": "code",
      "source": [
        "# Define the input and output directories\n",
        "input_dir = \"/content/drive/MyDrive/DiabticRetinopathy/Splitdataset2Split/test/Severe/\"\n",
        "output_dir = \"/content/drive/MyDrive/DiabticRetinopathy/Preprocess/Ben/test/Severe\"\n",
        "\n",
        "# Make sure the output directory exists\n",
        "if not os.path.exists(output_dir):\n",
        "    os.makedirs(output_dir)\n",
        "\n",
        "# Define the desired image size and other preprocessing parameters\n",
        "desired_size = (224, 224)\n",
        "\n",
        "# Function to perform Ben Graham's preprocessing\n",
        "def preprocess_image(input_path, output_path):\n",
        "    # Load the image\n",
        "    image = cv2.imread(input_path)\n",
        "\n",
        "    # Resize the image to the desired size\n",
        "    image = cv2.resize(image, desired_size)\n",
        "\n",
        "    # Convert the image to grayscale\n",
        "    gray_image = cv2.cvtColor(image, cv2.COLOR_BGR2GRAY)\n",
        "\n",
        "    # Apply histogram equalization\n",
        "    equalized_image = cv2.equalizeHist(gray_image)\n",
        "\n",
        "    # Save the preprocessed image\n",
        "    cv2.imwrite(output_path, equalized_image)\n",
        "\n",
        "# Iterate through the files in the input directory\n",
        "for filename in os.listdir(input_dir):\n",
        "    if filename.endswith(\".png\"):  # Modify this condition as needed\n",
        "        input_path = os.path.join(input_dir, filename)\n",
        "        output_path = os.path.join(output_dir, filename)\n",
        "        preprocess_image(input_path, output_path)\n",
        "\n",
        "print(\"Preprocessing complete.\")"
      ],
      "metadata": {
        "colab": {
          "base_uri": "https://localhost:8080/"
        },
        "id": "XrI0Kylu_5bU",
        "outputId": "cfa8399a-a782-48f2-8e9a-3b73fe4a0f66"
      },
      "execution_count": null,
      "outputs": [
        {
          "output_type": "stream",
          "name": "stdout",
          "text": [
            "Preprocessing complete.\n"
          ]
        }
      ]
    },
    {
      "cell_type": "markdown",
      "source": [],
      "metadata": {
        "id": "hir4GqA_tVej"
      }
    },
    {
      "cell_type": "markdown",
      "source": [],
      "metadata": {
        "id": "EVqdMigqtVbr"
      }
    },
    {
      "cell_type": "markdown",
      "source": [],
      "metadata": {
        "id": "Cq19rJZhtVYl"
      }
    },
    {
      "cell_type": "markdown",
      "source": [],
      "metadata": {
        "id": "noYyIdVttVWJ"
      }
    },
    {
      "cell_type": "markdown",
      "source": [],
      "metadata": {
        "id": "H8bYBctotVQc"
      }
    },
    {
      "cell_type": "markdown",
      "source": [],
      "metadata": {
        "id": "mxCYh0d5tVNz"
      }
    },
    {
      "cell_type": "code",
      "source": [
        "# Define the input and output directories\n",
        "input_dir = \"/content/drive/MyDrive/DiabticRetinopathy/Splitdataset2Split/val/Mild/\"\n",
        "output_dir = \"/content/drive/MyDrive/DiabticRetinopathy/Preprocess/Ben/val/Mild\"\n",
        "\n",
        "# Make sure the output directory exists\n",
        "if not os.path.exists(output_dir):\n",
        "    os.makedirs(output_dir)\n",
        "\n",
        "# Define the desired image size and other preprocessing parameters\n",
        "desired_size = (224, 224)\n",
        "\n",
        "# Function to perform Ben Graham's preprocessing\n",
        "def preprocess_image(input_path, output_path):\n",
        "    # Load the image\n",
        "    image = cv2.imread(input_path)\n",
        "\n",
        "    # Resize the image to the desired size\n",
        "    image = cv2.resize(image, desired_size)\n",
        "\n",
        "    # Convert the image to grayscale\n",
        "    gray_image = cv2.cvtColor(image, cv2.COLOR_BGR2GRAY)\n",
        "\n",
        "    # Apply histogram equalization\n",
        "    equalized_image = cv2.equalizeHist(gray_image)\n",
        "\n",
        "    # Save the preprocessed image\n",
        "    cv2.imwrite(output_path, equalized_image)\n",
        "\n",
        "# Iterate through the files in the input directory\n",
        "for filename in os.listdir(input_dir):\n",
        "    if filename.endswith(\".png\"):  # Modify this condition as needed\n",
        "        input_path = os.path.join(input_dir, filename)\n",
        "        output_path = os.path.join(output_dir, filename)\n",
        "        preprocess_image(input_path, output_path)\n",
        "\n",
        "print(\"Preprocessing complete.\")"
      ],
      "metadata": {
        "colab": {
          "base_uri": "https://localhost:8080/"
        },
        "id": "o_vgtPRu6YPG",
        "outputId": "f4789bfc-1b73-4fe0-d90d-9ed0fda9becd"
      },
      "execution_count": null,
      "outputs": [
        {
          "output_type": "stream",
          "name": "stdout",
          "text": [
            "Preprocessing complete.\n"
          ]
        }
      ]
    },
    {
      "cell_type": "code",
      "source": [
        "# Define the input and output directories\n",
        "input_dir = \"/content/drive/MyDrive/DiabticRetinopathy/Splitdataset2Split/val/Moderate/\"\n",
        "output_dir = \"/content/drive/MyDrive/DiabticRetinopathy/Preprocess/Ben/val/Moderate\"\n",
        "\n",
        "# Make sure the output directory exists\n",
        "if not os.path.exists(output_dir):\n",
        "    os.makedirs(output_dir)\n",
        "\n",
        "# Define the desired image size and other preprocessing parameters\n",
        "desired_size = (224, 224)\n",
        "\n",
        "# Function to perform Ben Graham's preprocessing\n",
        "def preprocess_image(input_path, output_path):\n",
        "    # Load the image\n",
        "    image = cv2.imread(input_path)\n",
        "\n",
        "    # Resize the image to the desired size\n",
        "    image = cv2.resize(image, desired_size)\n",
        "\n",
        "    # Convert the image to grayscale\n",
        "    gray_image = cv2.cvtColor(image, cv2.COLOR_BGR2GRAY)\n",
        "\n",
        "    # Apply histogram equalization\n",
        "    equalized_image = cv2.equalizeHist(gray_image)\n",
        "\n",
        "    # Save the preprocessed image\n",
        "    cv2.imwrite(output_path, equalized_image)\n",
        "\n",
        "# Iterate through the files in the input directory\n",
        "for filename in os.listdir(input_dir):\n",
        "    if filename.endswith(\".png\"):  # Modify this condition as needed\n",
        "        input_path = os.path.join(input_dir, filename)\n",
        "        output_path = os.path.join(output_dir, filename)\n",
        "        preprocess_image(input_path, output_path)\n",
        "\n",
        "print(\"Preprocessing complete.\")"
      ],
      "metadata": {
        "colab": {
          "base_uri": "https://localhost:8080/"
        },
        "id": "UAM9H27K67Qv",
        "outputId": "3b1c94a5-7a14-41f7-b6bd-f68cd89537aa"
      },
      "execution_count": null,
      "outputs": [
        {
          "output_type": "stream",
          "name": "stdout",
          "text": [
            "Preprocessing complete.\n"
          ]
        }
      ]
    },
    {
      "cell_type": "code",
      "source": [
        "# Define the input and output directories\n",
        "input_dir = \"/content/drive/MyDrive/DiabticRetinopathy/Splitdataset2Split/val/No_DR/\"\n",
        "output_dir = \"/content/drive/MyDrive/DiabticRetinopathy/Preprocess/Ben/val/No_DR\"\n",
        "\n",
        "# Make sure the output directory exists\n",
        "if not os.path.exists(output_dir):\n",
        "    os.makedirs(output_dir)\n",
        "\n",
        "# Define the desired image size and other preprocessing parameters\n",
        "desired_size = (224, 224)\n",
        "\n",
        "# Function to perform Ben Graham's preprocessing\n",
        "def preprocess_image(input_path, output_path):\n",
        "    # Load the image\n",
        "    image = cv2.imread(input_path)\n",
        "\n",
        "    # Resize the image to the desired size\n",
        "    image = cv2.resize(image, desired_size)\n",
        "\n",
        "    # Convert the image to grayscale\n",
        "    gray_image = cv2.cvtColor(image, cv2.COLOR_BGR2GRAY)\n",
        "\n",
        "    # Apply histogram equalization\n",
        "    equalized_image = cv2.equalizeHist(gray_image)\n",
        "\n",
        "    # Save the preprocessed image\n",
        "    cv2.imwrite(output_path, equalized_image)\n",
        "\n",
        "# Iterate through the files in the input directory\n",
        "for filename in os.listdir(input_dir):\n",
        "    if filename.endswith(\".png\"):  # Modify this condition as needed\n",
        "        input_path = os.path.join(input_dir, filename)\n",
        "        output_path = os.path.join(output_dir, filename)\n",
        "        preprocess_image(input_path, output_path)\n",
        "\n",
        "print(\"Preprocessing complete.\")"
      ],
      "metadata": {
        "colab": {
          "base_uri": "https://localhost:8080/"
        },
        "id": "Y2shpEo47Cf_",
        "outputId": "1455011d-4197-40e2-ac09-84cd270ecb3a"
      },
      "execution_count": null,
      "outputs": [
        {
          "output_type": "stream",
          "name": "stdout",
          "text": [
            "Preprocessing complete.\n"
          ]
        }
      ]
    },
    {
      "cell_type": "code",
      "source": [
        "# Define the input and output directories\n",
        "input_dir = \"/content/drive/MyDrive/DiabticRetinopathy/Splitdataset2Split/val/Proliferate_DR/\"\n",
        "output_dir = \"/content/drive/MyDrive/DiabticRetinopathy/Preprocess/Ben/val/Proliferate_DR\"\n",
        "\n",
        "# Make sure the output directory exists\n",
        "if not os.path.exists(output_dir):\n",
        "    os.makedirs(output_dir)\n",
        "\n",
        "# Define the desired image size and other preprocessing parameters\n",
        "desired_size = (224, 224)\n",
        "\n",
        "# Function to perform Ben Graham's preprocessing\n",
        "def preprocess_image(input_path, output_path):\n",
        "    # Load the image\n",
        "    image = cv2.imread(input_path)\n",
        "\n",
        "    # Resize the image to the desired size\n",
        "    image = cv2.resize(image, desired_size)\n",
        "\n",
        "    # Convert the image to grayscale\n",
        "    gray_image = cv2.cvtColor(image, cv2.COLOR_BGR2GRAY)\n",
        "\n",
        "    # Apply histogram equalization\n",
        "    equalized_image = cv2.equalizeHist(gray_image)\n",
        "\n",
        "    # Save the preprocessed image\n",
        "    cv2.imwrite(output_path, equalized_image)\n",
        "\n",
        "# Iterate through the files in the input directory\n",
        "for filename in os.listdir(input_dir):\n",
        "    if filename.endswith(\".png\"):  # Modify this condition as needed\n",
        "        input_path = os.path.join(input_dir, filename)\n",
        "        output_path = os.path.join(output_dir, filename)\n",
        "        preprocess_image(input_path, output_path)\n",
        "\n",
        "print(\"Preprocessing complete.\")"
      ],
      "metadata": {
        "colab": {
          "base_uri": "https://localhost:8080/"
        },
        "id": "9Kug6pWQ7QOG",
        "outputId": "208fea83-5377-4520-8904-742835e67bb1"
      },
      "execution_count": null,
      "outputs": [
        {
          "output_type": "stream",
          "name": "stdout",
          "text": [
            "Preprocessing complete.\n"
          ]
        }
      ]
    },
    {
      "cell_type": "code",
      "source": [
        "# Define the input and output directories\n",
        "input_dir = \"/content/drive/MyDrive/DiabticRetinopathy/Splitdataset2Split/val/Severe/\"\n",
        "output_dir = \"/content/drive/MyDrive/DiabticRetinopathy/Preprocess/Ben/val/Severe\"\n",
        "\n",
        "# Make sure the output directory exists\n",
        "if not os.path.exists(output_dir):\n",
        "    os.makedirs(output_dir)\n",
        "\n",
        "# Define the desired image size and other preprocessing parameters\n",
        "desired_size = (224, 224)\n",
        "\n",
        "# Function to perform Ben Graham's preprocessing\n",
        "def preprocess_image(input_path, output_path):\n",
        "    # Load the image\n",
        "    image = cv2.imread(input_path)\n",
        "\n",
        "    # Resize the image to the desired size\n",
        "    image = cv2.resize(image, desired_size)\n",
        "\n",
        "    # Convert the image to grayscale\n",
        "    gray_image = cv2.cvtColor(image, cv2.COLOR_BGR2GRAY)\n",
        "\n",
        "    # Apply histogram equalization\n",
        "    equalized_image = cv2.equalizeHist(gray_image)\n",
        "\n",
        "    # Save the preprocessed image\n",
        "    cv2.imwrite(output_path, equalized_image)\n",
        "\n",
        "# Iterate through the files in the input directory\n",
        "for filename in os.listdir(input_dir):\n",
        "    if filename.endswith(\".png\"):  # Modify this condition as needed\n",
        "        input_path = os.path.join(input_dir, filename)\n",
        "        output_path = os.path.join(output_dir, filename)\n",
        "        preprocess_image(input_path, output_path)\n",
        "\n",
        "print(\"Preprocessing complete.\")"
      ],
      "metadata": {
        "colab": {
          "base_uri": "https://localhost:8080/"
        },
        "id": "ypOJ5qqu7fw-",
        "outputId": "566fae6c-6b3d-4d76-d5eb-e039ab8c6f61"
      },
      "execution_count": null,
      "outputs": [
        {
          "output_type": "stream",
          "name": "stdout",
          "text": [
            "Preprocessing complete.\n"
          ]
        }
      ]
    }
  ],
  "metadata": {
    "colab": {
      "machine_shape": "hm",
      "provenance": [],
      "gpuType": "T4",
      "include_colab_link": true
    },
    "kernelspec": {
      "display_name": "Python 3",
      "name": "python3"
    },
    "language_info": {
      "name": "python"
    },
    "accelerator": "GPU"
  },
  "nbformat": 4,
  "nbformat_minor": 0
}