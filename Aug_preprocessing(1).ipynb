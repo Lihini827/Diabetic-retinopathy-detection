{
  "nbformat": 4,
  "nbformat_minor": 0,
  "metadata": {
    "colab": {
      "provenance": [],
      "machine_shape": "hm",
      "gpuType": "T4",
      "include_colab_link": true
    },
    "kernelspec": {
      "name": "python3",
      "display_name": "Python 3"
    },
    "language_info": {
      "name": "python"
    },
    "accelerator": "GPU"
  },
  "cells": [
    {
      "cell_type": "markdown",
      "metadata": {
        "id": "view-in-github",
        "colab_type": "text"
      },
      "source": [
        "<a href=\"https://colab.research.google.com/github/Lihini827/Diabetic-retinopathy-detection/blob/main/Aug_preprocessing(1).ipynb\" target=\"_parent\"><img src=\"https://colab.research.google.com/assets/colab-badge.svg\" alt=\"Open In Colab\"/></a>"
      ]
    },
    {
      "cell_type": "code",
      "execution_count": null,
      "metadata": {
        "id": "WgMkWGB_Dq8B",
        "colab": {
          "base_uri": "https://localhost:8080/"
        },
        "outputId": "25f2accc-1e6c-4602-cf54-77b83b199997"
      },
      "outputs": [
        {
          "output_type": "stream",
          "name": "stdout",
          "text": [
            "Mounted at /content/drive\n"
          ]
        }
      ],
      "source": [
        "from google.colab import drive\n",
        "drive.mount('/content/drive')"
      ]
    },
    {
      "cell_type": "code",
      "source": [
        "from PIL import Image\n",
        "from imgaug import augmenters as iaa\n",
        "import numpy as np\n",
        "import glob,os,cv2\n",
        "\n",
        "import warnings\n",
        "warnings.filterwarnings('ignore')"
      ],
      "metadata": {
        "id": "6hlcRrd_EPtm"
      },
      "execution_count": null,
      "outputs": []
    },
    {
      "cell_type": "code",
      "source": [
        "path_parent = '/content/drive/MyDrive/DiabticRetinopathy/Preprocess/Ben/train/*'\n",
        "path_parent = os.path.dirname(os.path.abspath(path_parent)) + '/'\n",
        "dirs_parent = os.listdir(path_parent)"
      ],
      "metadata": {
        "id": "OcWIeSRxER0F"
      },
      "execution_count": null,
      "outputs": []
    },
    {
      "cell_type": "code",
      "source": [
        "print(dirs_parent)"
      ],
      "metadata": {
        "id": "a8Hh4nhFESek",
        "colab": {
          "base_uri": "https://localhost:8080/"
        },
        "outputId": "89ada826-cef3-49b3-82e0-2b34f2f3d617"
      },
      "execution_count": null,
      "outputs": [
        {
          "output_type": "stream",
          "name": "stdout",
          "text": [
            "['Mild']\n"
          ]
        }
      ]
    },
    {
      "cell_type": "code",
      "source": [
        "for item_parent in dirs_parent:\n",
        "    print(item_parent)\n",
        "\n",
        "    path = '/content/drive/MyDrive/DiabticRetinopathy/Preprocess/Ben/train/'+item_parent+'/*'\n",
        "    path = os.path.dirname(os.path.abspath(path)) + '/'\n",
        "    dirs = os.listdir(path)"
      ],
      "metadata": {
        "colab": {
          "base_uri": "https://localhost:8080/"
        },
        "id": "vQPT28mLEUG8",
        "outputId": "56126d56-a5f1-4ecb-9988-5a3d6bad4d54"
      },
      "execution_count": null,
      "outputs": [
        {
          "output_type": "stream",
          "name": "stdout",
          "text": [
            "Mild\n"
          ]
        }
      ]
    },
    {
      "cell_type": "code",
      "source": [
        "    for item in dirs:\n",
        "        if (os.path.isfile(path+item)) & ('png' in item):\n",
        "            im = Image.open(path+item)\n",
        "            if im.mode !='RGB':\n",
        "                im = im.convert('RGB')\n",
        "            imResize = im.resize((224,224),Image.ANTIALIAS)\n",
        "            imResize.save(path+item,'png',quality = 90)\n",
        "    fps = glob.glob(path+'*')\n",
        "    images = np.array(\n",
        "        [cv2.cvtColor(cv2.imread(fp),cv2.COLOR_BGR2RGB) for fp in fps],\n",
        "        dtype = np.uint8\n",
        "    )"
      ],
      "metadata": {
        "id": "HnekYIKKEWCl"
      },
      "execution_count": null,
      "outputs": []
    },
    {
      "cell_type": "code",
      "source": [
        "    seq = iaa.Sequential([\n",
        "    iaa.Fliplr(1.0),\n",
        "    iaa.Flipud(1.0),\n",
        "    iaa.Crop(percent = (0,0.1)),\n",
        "    iaa.Sometimes(0.5,\n",
        "        iaa.GaussianBlur(sigma=(0,0.5))\n",
        "    ),\n",
        "    iaa.ContrastNormalization((0.75,1.5)),#strengthen or weaken the contrast in each image\n",
        "    iaa.AdditiveGaussianNoise(loc=0,scale=(0.0,0.05*255),per_channel=0.5),#add gaussian Noise\n",
        "    iaa.Multiply((0.8,1.2),per_channel=0.2),#configure Lightness\n",
        "\n",
        "\n",
        "    iaa.Affine(    #Affine Transform : Scale/Zoom them, translate/move them, rotate them and shear them)\n",
        "        scale={\"x\":(0.8,1.2),\"y\":(0.8,1.2)},\n",
        "        translate_percent={\"x\":(-0.2,0.2),\"y\":(-0.2,0.2)},\n",
        "        rotate=(-45,45),\n",
        "        shear=(-16,16))\n",
        "    ],random_order=True)"
      ],
      "metadata": {
        "id": "mgqdPHFOEYAs"
      },
      "execution_count": null,
      "outputs": []
    },
    {
      "cell_type": "code",
      "source": [
        "aug_times = 2\n",
        "\n",
        "\n",
        "for times in range(aug_times):\n",
        "  images_aug = seq(images=images)\n",
        "\n",
        "  i=0\n",
        "  for img in images_aug:\n",
        "    cv2.imwrite(os.path.join( path,f'{times}'+'augmented_'+os.path.basename(fps[i])),cv2.cvtColor(img,cv2.COLOR_BGR2RGB))\n",
        "    i+=1"
      ],
      "metadata": {
        "id": "MOrVPC2tEZ-l"
      },
      "execution_count": null,
      "outputs": []
    }
  ]
}